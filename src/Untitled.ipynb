{
 "cells": [
  {
   "cell_type": "markdown",
   "id": "6f608eb0-0f52-49d8-a42f-649a5c2b6f64",
   "metadata": {},
   "source": [
    "# 人狼ゲームプロトタイプ"
   ]
  },
  {
   "cell_type": "code",
   "execution_count": 147,
   "id": "27d04142-6e3c-4887-b4c5-b2ea18d8f56c",
   "metadata": {},
   "outputs": [],
   "source": [
    "from dataclasses import dataclass\n",
    "from typing import Optional, Final\n",
    "from typing_extensions import TypeAlias\n",
    "from enum import Enum, auto\n",
    "import re\n",
    "from logging import getLogger, StreamHandler, DEBUG\n",
    "import random\n",
    "import os\n",
    "import time\n",
    "from collections import Counter"
   ]
  },
  {
   "cell_type": "code",
   "execution_count": 141,
   "id": "f731d133-f989-41ce-92c8-91d9c9cea011",
   "metadata": {
    "tags": []
   },
   "outputs": [],
   "source": [
    "def set_logger(level = DEBUG):\n",
    "    logger = getLogger(__name__)\n",
    "    logger.setLevel(DEBUG)\n",
    "    if not logger.hasHandlers():\n",
    "        handler = StreamHandler()\n",
    "        handler.setLevel(DEBUG)\n",
    "        logger.addHandler(handler)\n",
    "    logger.propagate = False\n",
    "    return logger\n",
    "\n",
    "def log_debug(logger,text):\n",
    "    if logger is not None:\n",
    "        logger.debug(text)\n",
    "        \n",
    "        \n",
    "def isInteger(value):\n",
    "    \"\"\"\n",
    "    整数チェック\n",
    "    :param value: チェック対象の文字列\n",
    "    :rtype: チェック対象文字列が、全て数値の場合 True\n",
    "    \"\"\"\n",
    "    return re.match(r\"^\\d+$\", value) is not None\n"
   ]
  },
  {
   "cell_type": "code",
   "execution_count": 3,
   "id": "d9a9a9c8-04eb-41a2-9033-c2e6f0f9a475",
   "metadata": {},
   "outputs": [],
   "source": [
    "logger = set_logger()"
   ]
  },
  {
   "cell_type": "code",
   "execution_count": 32,
   "id": "bf19ec49-9b04-4e84-b72d-fa33992e64e4",
   "metadata": {},
   "outputs": [
    {
     "data": {
      "text/plain": [
       "False"
      ]
     },
     "execution_count": 32,
     "metadata": {},
     "output_type": "execute_result"
    }
   ],
   "source": [
    "\"村人\" == Roles.VILLAGER"
   ]
  },
  {
   "cell_type": "code",
   "execution_count": 286,
   "id": "2f1a939d-9834-4246-a0c1-66fa13b2f5a9",
   "metadata": {},
   "outputs": [],
   "source": [
    "class Roles(Enum):\n",
    "    \"\"\"\n",
    "    役職の列挙\n",
    "    今後新たな役職を追加する場合は必ずここに役職を追加する\n",
    "    \"\"\"\n",
    "    VILLAGER = \"村人\"\n",
    "    WEREWOLF = \"人狼\"\n",
    "    SEER = \"占い師\"\n",
    "    MEDIC = \"騎士\"\n",
    "    MADMAN = \"狂人\"    \n",
    "\n",
    "BASE_ROLES: Final[list[Roles]] = [\n",
    "    \"村人\",\n",
    "    \"人狼\"]\n",
    "\n",
    "AVAILABLE_ROLES: Final[list[Roles]] = [\n",
    "    \"占い師\",\n",
    "    \"騎士\",\n",
    "    \"狂人\"]\n",
    "\n",
    "VILLAGER_SIDE_ROLES: Final[list[Roles]] = [\n",
    "    \"村人\",\n",
    "    \"騎士\",\n",
    "    \"占い師\"]\n",
    "\n",
    "WEREWOLF_SIDE_ROLES: Final[list[Roles]] = [\n",
    "    \"人狼\",\n",
    "    \"狂人\"]\n",
    "\n",
    "PlayerName: TypeAlias = str\n",
    "PlayerNames: TypeAlias = list[PlayerName]\n",
    "RoleAllocation: TypeAlias = dict[Roles,int]\n",
    "\n",
    "    \n",
    "    \n",
    "class GameInitializer:\n",
    "    \"\"\"\n",
    "    ゲーム開始に必要な情報を取得する\n",
    "    取得する情報\n",
    "    - 使用する役職\n",
    "    - 役職別の人数\n",
    "    - Playerの名前\n",
    "    \"\"\"\n",
    "\n",
    "    def __init__(self, logger = None):\n",
    " \n",
    "        self.logger = logger\n",
    "    \n",
    "    def initialize(self)->tuple[RoleAllocation,PlayerNames]:\n",
    "        \n",
    "        self.__use_roles = self._select_using_roles()\n",
    "        self.role_allocation:RoleAllocation = self._allocate_role_numbers()\n",
    "        \n",
    "        self.__player_num = self._get_player_num()\n",
    "        self.players: Players =  self._make_players()\n",
    "        \n",
    "        return self.role_allocation, self.players\n",
    "\n",
    "    def _select_using_roles(self)-> list[Roles]:\n",
    "        \"\"\"\n",
    "        ユーザーに使用する配役を入力してもらう\n",
    "        AVAILABLE_ROLESに含まれていない役職は受け付けない\n",
    "        TODO\n",
    "        - 利用可能なすべての役職が追加されたらループを抜ける\n",
    "        - 現在の役職を表示\n",
    "        \"\"\"\n",
    "        print(\"追加したい役職があればその役職名を入力してください.なければDoneと入力してください\\n\"\\\n",
    "              \"使用可能な役職:\")\n",
    "        for i, role in enumerate(AVAILABLE_ROLES):\n",
    "            print(f\"- {role}\")\n",
    "\n",
    "        keep_input = True\n",
    "\n",
    "        use_roles = BASE_ROLES.copy()\n",
    "        while keep_input:\n",
    "            inputted = input()\n",
    "\n",
    "            if inputted in use_roles:\n",
    "                print(\"既に追加済みの役職です．　その他の新たに追加したい役職を選択してください．なければDoneを入力してください\")\n",
    "                continue\n",
    "\n",
    "            if inputted in AVAILABLE_ROLES:\n",
    "                use_roles.append(inputted)\n",
    "                print(f\"使用する役職に{inputted}を追加しました．\")\n",
    "                print(f\"その他に追加したい役職があれば役職名を入力してください.なければDoneを入力してください\")\n",
    "\n",
    "            elif inputted == \"Done\":\n",
    "                keep_input = False\n",
    "\n",
    "            else:\n",
    "                print(\"無効な入力です．追加したい役職を入力するか，　Doneを入力してください\")    \n",
    "        self._log_debug(f\"使用する配役:{use_roles}\")\n",
    "        return use_roles\n",
    "\n",
    "    \n",
    "    def _allocate_role_numbers(self)-> dict[Roles, int]:\n",
    "        \"\"\"\n",
    "        村人陣営の人数が人狼陣営の人数より多くなるように配役を入力させる\n",
    "        \"\"\"\n",
    "\n",
    "        unbalance = True \n",
    "        \n",
    "        #妥当なバランスになるまで入力を繰り返させる\n",
    "        while unbalance:\n",
    "            \n",
    "            #配役別の人数を入力\n",
    "            role_allocation = self.__allocate_role_numbers()\n",
    "            self._log_debug(f\"役職別の人数:{role_allocation}\")\n",
    "\n",
    "            if self._is_valid_player_balance(role_allocation):\n",
    "                unbalance = False\n",
    "                \n",
    "            else:\n",
    "                print(\"人狼陣営の方が人数が多いです.\")\n",
    "                print(\"村人陣営の人数が人狼陣営の人数より多くなるように配役の人数を設定してください.\")\n",
    "                     \n",
    "        return role_allocation\n",
    "            \n",
    "    \n",
    "    def __allocate_role_numbers(self)->dict[Roles,int]:\n",
    "        \"\"\"\n",
    "        役職毎の人数を入力させる,数値以外の入力は無効とする\n",
    "        \"\"\"\n",
    "        \n",
    "        role_allocation = dict()\n",
    "\n",
    "        for role in self.__use_roles:\n",
    "            print(f\"役職：　{role}　の人数を入力してください\")\n",
    "            print(f\"例:2人->[入力]:2\")\n",
    "            isnotint = True\n",
    "            while isnotint:\n",
    "                num = input()\n",
    "                # TODO: 入力の妥当性検証\n",
    "                if self._isInteger(num):\n",
    "                    role_allocation[role] = int(num)\n",
    "                    isnotint = False\n",
    "                else:\n",
    "                    print(\"無効な入力です,数値で入力してください.\")\n",
    "        \n",
    "        return  role_allocation\n",
    "\n",
    "    \n",
    "    def _get_player_num(self):\n",
    "        \"\"\"playerの総数\"\"\"\n",
    "        return sum([value for value in self.role_allocation.values()])\n",
    "    \n",
    "    \n",
    "    def _make_players(self):\n",
    "        players = list()\n",
    "        \n",
    "        for i in range(self.__player_num):\n",
    "            player = Player(id_num = i)\n",
    "            players.append(player)\n",
    "        return players\n",
    "        \n",
    "    \n",
    "    def _is_valid_player_balance(self, role_numbers:dict[Roles,int])->bool:\n",
    "        \"\"\"\n",
    "        村人陣営<=人狼陣営の人数の場合,スタート直後から人狼陣営の勝利が確定しまうためチェックする必要あり\n",
    "        \"\"\"\n",
    "        villagers_num = 0\n",
    "        werewolfs_num = 0\n",
    "        \n",
    "        for role, num in role_numbers.items():\n",
    "            self._log_debug(f\"role:{role}, num:{num}\")\n",
    "            if role in VILLAGER_SIDE_ROLES:\n",
    "                villagers_num += num\n",
    "\n",
    "            if role in WEREWOLF_SIDE_ROLES:\n",
    "                werewolfs_num += num\n",
    "        self._log_debug(f\"村人陣営の数:{villagers_num}\")\n",
    "        self._log_debug(f\"人狼陣営の数:{werewolfs_num}\")\n",
    "        return villagers_num > werewolfs_num\n",
    "        \n",
    "    \n",
    "    def _isInteger(self, value):\n",
    "        \"\"\"\n",
    "        整数チェック\n",
    "        :param value: チェック対象の文字列\n",
    "        :rtype: チェック対象文字列が、全て数値の場合 True\n",
    "        \"\"\"\n",
    "        return re.match(r\"^\\d+$\", value) is not None\n",
    "    \n",
    "    def reset_isalive(self):\n",
    "        for player in self.players:\n",
    "            player.reborn()\n",
    "            \n",
    "    def _log_debug(self,text):\n",
    "        if self.logger is not None:\n",
    "            self.logger.debug(text)"
   ]
  },
  {
   "cell_type": "code",
   "execution_count": 266,
   "id": "0321c10e-1541-4154-8b21-c5c66285b61c",
   "metadata": {},
   "outputs": [],
   "source": [
    "from abc import ABC, abstractmethod\n",
    "class BaseRole(ABC):\n",
    "    \"\"\"\n",
    "    役職クラスに必要なメソッドは\n",
    "    昼の行動\n",
    "    夜の行動\n",
    "    \"\"\"\n",
    "    \n",
    "    @abstractmethod\n",
    "    def dayaction(self):\n",
    "        pass\n",
    "    \n",
    "    @abstractmethod\n",
    "    def nightaction(self):\n",
    "        pass\n",
    "    \n",
    "    def show_role_name(self):\n",
    "        print(f\"あなたの役職は{self._role_name}です\")"
   ]
  },
  {
   "cell_type": "code",
   "execution_count": 305,
   "id": "142fc19f-c595-442c-b00f-deae20281c99",
   "metadata": {},
   "outputs": [],
   "source": [
    "class Player():\n",
    "\n",
    "    def __init__(self,id_num):\n",
    "        self.id: int = id_num\n",
    "\n",
    "        self.name: str = self.input_name() \n",
    "        self.role: Optional[BaseRole] = None\n",
    "        self.is_Alive: bool = True\n",
    "        # self.is_Guardable: bool = False\n",
    "        # self.is_Divinationable: bool = True\n",
    "    \n",
    "    \n",
    "    def input_name(self):\n",
    "        print(f\"player{self.id}の名前を入力してください\")\n",
    "        name = input()\n",
    "        return name\n",
    "\n",
    " \n",
    "    def dead(self):\n",
    "        self.is_Alive = False\n",
    "    \n",
    "    def reborn(self):\n",
    "        self.is_Alive = True\n",
    "#     def divined(self):\n",
    "#         self.is_Divinationable = False\n",
    "    \n",
    "#     def change_Guardable(self):\n",
    "#         self.is_Guardable = ~self.is_Guardable\n",
    "    \n",
    "    def set_role(self,role: Roles):\n",
    "        self.role = role\n",
    "        \n",
    "    def dayaction(self):\n",
    "        \n",
    "        self.role.dayaction()\n",
    "        \n",
    "\n",
    "        \n",
    "    \n",
    "    def nightaction(self):\n",
    "        \n",
    "        self.role.nightaction()\n",
    "\n",
    "    \n",
    "Players: TypeAlias = list[Player]\n",
    "\n",
    "class Moderator:\n",
    "    \n",
    "    def __init__(self,\n",
    "                 role_allocation: RoleAllocation,\n",
    "                 players:Players,\n",
    "                 logger = None):\n",
    "        self.role_allocation = role_allocation\n",
    "        self.players = players\n",
    "        self.aliveplayers = players\n",
    "        self.deadplayers = None\n",
    "        self.gamestatus = None\n",
    "        self.logger = logger\n",
    "        self.last_night_victim = None\n",
    "        \n",
    "    def assign_role(self):\n",
    "        role_list = list()\n",
    "\n",
    "        for role, num in self.role_allocation.items():\n",
    "            for _ in range(num):\n",
    "                role_list.append(self._set_role(Roles(role))) \n",
    "            \n",
    "        if self.logger is not None:\n",
    "            self.logger.debug(f\"shuffle前:{role_list}\")\n",
    "\n",
    "        random.shuffle(role_list)\n",
    "        \n",
    "        if self.logger is not None:\n",
    "            self.logger.debug(f\"shuffle後:{role_list}\")\n",
    "            \n",
    "        for player,role in zip(self.players,role_list):\n",
    "            player.set_role(role)\n",
    "        \n",
    "  \n",
    "    def _set_role(self,role: Roles)-> BaseRole:\n",
    "        \n",
    "        if role == Roles.VILLAGER:\n",
    "            return Villager()\n",
    "        \n",
    "        if role == Roles.WEREWOLF:\n",
    "            return Werewolf()\n",
    "        \n",
    "        \n",
    "    def check_own_role(self):\n",
    "        for player in self.players:  \n",
    "            if self._is_yourself(player.name):\n",
    "                player.role.show_role_name()\n",
    "    \n",
    "    \n",
    "    def _is_yourself(self,player_name):\n",
    "        \"\"\"\n",
    "        Player_nameと同一人物か確認をとる.\n",
    "        確認が取れるまで入力を促す\n",
    "        \"\"\"\n",
    "        notmatch = True \n",
    "        print(f\"あなたは{player_name}さんですか？正しければyesと入力して下さい\")\n",
    "        while notmatch:\n",
    "            ans = input()\n",
    "            if ans == \"yes\":\n",
    "                return True\n",
    "            else:\n",
    "                print(\"無効な入力です.\")\n",
    "    \n",
    "    \n",
    "    def _get_discussion_time(self) -> int:\n",
    "        \n",
    "        print(\"議論する時間を入力してください\")\n",
    "        print(\"例：3分 -> 入力値: 3\")\n",
    "        invalid_input = True\n",
    "        while invalid_input:\n",
    "            minute = input()        \n",
    "            if isInteger(minute):\n",
    "                return int(minute)\n",
    "            else:\n",
    "                print(\"無効な入力です．整数値で入力してください.\")\n",
    "   \n",
    "    \n",
    "    def set_timer(self,minute):\n",
    "        second = minute * 60\n",
    "        time.sleep(second)\n",
    "    \n",
    "    \n",
    "    def select_outcast(self)-> Player:\n",
    "        \"\"\"\n",
    "        生存しているplayerに対して， 人狼と思われるplayerの名前を入力させる\n",
    "        最多投票数が複数人いる場合は最多投票者からランダムに選択\n",
    "        \"\"\"\n",
    "        result_list = list()\n",
    "        \n",
    "        aliveplayer_names = [player.name for player in self.aliveplayers]\n",
    "        \n",
    "        for name in aliveplayer_names:\n",
    "            self._is_yourself(name)\n",
    "            result_list.append(self._select_outcast(aliveplayer_names))\n",
    "        \n",
    "        counter = Counter(result_list)\n",
    "        sorted_counter = counter.most_common()\n",
    "\n",
    "        if self._is_vote_tied(sorted_counter):\n",
    "            tied_players_name = self._get_tied_players(sorted_counter)\n",
    "            outcast_name = random.choice(tied_players_name)\n",
    "        else:\n",
    "            outcast_name = sorted_counter[0][0]\n",
    "              \n",
    "        outcast_index = aliveplayer_names.index(outcast_name)\n",
    "        \n",
    "        return self.aliveplayers[outcast_index]\n",
    "    \n",
    "    \n",
    "    def _select_outcast(self,aliveplayer_names):\n",
    "        \n",
    "        print(\"下記playerの中から,追放する人物名を入力して下さい\")\n",
    "        print(aliveplayer_names)\n",
    "\n",
    "        while True:\n",
    "            selected_player = input()\n",
    "            if selected_player in aliveplayer_names:\n",
    "                result = list\n",
    "                return selected_player\n",
    "            \n",
    "            else:\n",
    "                print(\"向こうな入力で生存しているplayer名を入力して下さい\")\n",
    "                \n",
    "                \n",
    "    def _is_vote_tied(self,sorted_counter):\n",
    "        if len(sorted_counter) == 1:\n",
    "            return False\n",
    "        \n",
    "        top_vote_num = sorted_counter[0][1]\n",
    "        next_vote_num = sorted_counter[1][1]\n",
    "        \n",
    "        if top_vote_num == next_vote_num:\n",
    "            return True\n",
    "        else:\n",
    "            return False\n",
    "        \n",
    "        \n",
    "    def _get_tied_players(self, sorted_counter)->list[PlayerName]:\n",
    "        top_voted_num = sorted_counter[0][1]\n",
    "        tied_players_name = list()\n",
    "        for name, voted_num in sorted_counter:\n",
    "            if voted_num == top_voted_num:\n",
    "                tied_players_name.append(name)\n",
    "            else:\n",
    "                break\n",
    "                \n",
    "        return tied_players_name\n",
    "\n",
    "    \n",
    "    def update_alivalplayers(self):\n",
    "\n",
    "        self.aliveplayers = [player for player in self.players if player.is_Alive]\n",
    "        \n",
    "    \n",
    "    def judgment(self):\n",
    "        aliveplayers_num = len(self.aliveplayers)\n",
    "        werewolf_num = len([player for player in self.aliveplayers if player.role._role_name == \"人狼\"])\n",
    "        other_roles_num = aliveplayers_num - werewolf_num\n",
    "        \n",
    "        if other_roles_num <= werewolf_num:\n",
    "            self.gamestatus = \"人狼陣営の勝利\"\n",
    "            \n",
    "        if werewolf_num == 0:\n",
    "            self.gamestatus = \"村人陣営の勝利\"\n",
    "            \n",
    "            \n",
    "    def selcet_victim(self) -> Player:\n",
    "        aliveplayer_names = [player.name for player in self.aliveplayers]\n",
    "        target_list = list()        \n",
    "        \n",
    "        for player in self.aliveplayers:\n",
    "            if player.role._role_name == \"人狼\":\n",
    "                target_list.append(player.role._target_name)\n",
    "                \n",
    "        target_counter = Counter(target_list)\n",
    "        sorted_counter = target_counter.most_common()\n",
    "        \n",
    "        if self._is_vote_tied(sorted_counter):\n",
    "            tied_players_name = self._get_tied_players(sorted_counter)\n",
    "            outcast_name = random.choice(tied_players_name)\n",
    "        else:\n",
    "            outcast_name = sorted_counter[0][0]\n",
    "              \n",
    "        target_index = aliveplayer_names.index(outcast_name)\n",
    "        return self.aliveplayers[target_index]\n",
    "\n",
    "            \n",
    "    def dayaction(self):\n",
    "        \n",
    "        #昨晩の被害者の\n",
    "        \n",
    "        #議論の時間入力\n",
    "        minute = self._get_discussion_time()\n",
    "        #議論開始\n",
    "        print(\"議論を開始してください.\")\n",
    "        self.set_timer(minute)\n",
    "        \n",
    "        #議論終了\n",
    "        print(\"時間になりました議論を終了してください\")\n",
    "        \n",
    "        self._log_player_status(\"select_outcast関数使用前\")\n",
    "\n",
    "        #投票\n",
    "        outcast_player = self.select_outcast()\n",
    "        #追放\n",
    "        print(f\"{outcast_player.name}が追放されます\")\n",
    "        \n",
    "        self._log_player_status(\"dead関数使用前\")\n",
    "        \n",
    "        outcast_player.dead()\n",
    "        \n",
    "        self._log_player_status(\"dead関数使用後\")\n",
    "                \n",
    "        #勝利判定\n",
    "        self.update_alivalplayers()\n",
    "        \n",
    "        self._log_player_status(\"update_alivalplayers使用後\")\n",
    "\n",
    "        self.judgment()\n",
    "    \n",
    "    \n",
    "    def nightaction(self):\n",
    "        \n",
    "        #各Playerが夜の行動をとる\n",
    "        for player in self.aliveplayers:\n",
    "            if self._is_yourself(player.name):\n",
    "                player.nightaction()\n",
    "        \n",
    "        #殺害する人物を決める\n",
    "        victim = self.selcet_victim()\n",
    "        victim.dead()\n",
    "        self._log_player_status(\"dead使用後\")\n",
    "        self.last_night_victim = victim.name\n",
    "\n",
    "        \n",
    "        self.update_alivalplayers()\n",
    "        self._log_player_status(\"update_alivalplayers使用後\")\n",
    "\n",
    "        self.judgment()\n",
    "        \n",
    "    def get_last_naight_victim(self):\n",
    "        return self.last_night_victim\n",
    "    \n",
    "    \n",
    "    def get_gamestatus(self):\n",
    "        return self.gamestatus\n",
    "    \n",
    "    def _log_player_status(self,text = None):\n",
    "        if self.logger is not None:\n",
    "            self.logger.debug(text)\n",
    "            for player in self.players:\n",
    "                self.logger.debug(f\"player:{player.name},status:{player.is_Alive}\")"
   ]
  },
  {
   "cell_type": "code",
   "execution_count": 268,
   "id": "6a45e9d0-0493-4499-8cb5-df9f1ca2f33b",
   "metadata": {
    "tags": []
   },
   "outputs": [],
   "source": [
    "class Villager(BaseRole):\n",
    "    \"\"\"\n",
    "    村人の行動\n",
    "    \"\"\"\n",
    "    def __init__(self):\n",
    "        super().__init__()\n",
    "        self._role_name = \"村人\"\n",
    "    def dayaction(self):\n",
    "        pass\n",
    "        \n",
    "    def nightaction(self):\n",
    "        pass    \n",
    "    "
   ]
  },
  {
   "cell_type": "code",
   "execution_count": 269,
   "id": "ea12f860-1a89-4945-8d20-39656af44a66",
   "metadata": {},
   "outputs": [],
   "source": [
    "class Werewolf(BaseRole):\n",
    "    \"\"\"\n",
    "    人狼の行動\n",
    "    \"\"\"\n",
    "    def __init__(self,logger = None):\n",
    "        super().__init__()\n",
    "        self.__logger = logger\n",
    "        \n",
    "        self._role_name = \"人狼\"\n",
    "        \n",
    "        self._target_name = None\n",
    "        \n",
    "    def dayaction(self):\n",
    "        pass\n",
    "    \n",
    "    def nightaction(self):\n",
    "        self.reset_target_for_kill()\n",
    "        self.choose_target_for_kill()\n",
    "        \n",
    "    def reset_target_for_kill(self):\n",
    "        self._target_name = None\n",
    "    \n",
    "    def choose_target_for_kill(self):\n",
    "        print(\"殺害する人の名前を選択していください\")\n",
    "        name = input()\n",
    "        #TODO 妥当性検証\n",
    "        self._target_name = name    "
   ]
  },
  {
   "cell_type": "code",
   "execution_count": 307,
   "id": "1367cb7c-c239-4e45-b6ba-ffefd09c60da",
   "metadata": {},
   "outputs": [],
   "source": [
    "def main():\n",
    "    #ゲームの設定\n",
    "    game = GameInitializer(logger=logger)\n",
    "    role_allocation, players = game.initialize()\n",
    "\n",
    "    moderator = Moderator(role_allocation,players,logger= logger)\n",
    "\n",
    "    #Game start\n",
    "    moderator.assign_role()\n",
    "    moderator.check_own_role()\n",
    "\n",
    "    day_counter = 1\n",
    "    while True:\n",
    "        \n",
    "        print(f\"{day_counter}の朝です.\")\n",
    "        if moderator.get_last_naight_victim() is not None:\n",
    "            print(f\"昨晩の被害者:{moderator.get_last_naight_victim}\")\n",
    "        else:\n",
    "            print(\"昨晩の被害者はいませんでした．\")\n",
    "            \n",
    "        #昼の行動\n",
    "        moderator.dayaction()        \n",
    "        if moderator.gamestatus is not None:\n",
    "            print(moderator.gamestatus)\n",
    "            break\n",
    "        \n",
    "        #夜の行動\n",
    "        moderator.nightaction()\n",
    "        if moderator.gamestatus is not None:\n",
    "            print(moderator.gamestatus)\n",
    "            break\n",
    "            \n",
    "        day_counter +=1"
   ]
  },
  {
   "cell_type": "code",
   "execution_count": 287,
   "id": "32d5e606-0fd2-4355-9847-9108271600fc",
   "metadata": {},
   "outputs": [],
   "source": [
    "game = GameInitializer(logger=logger)"
   ]
  },
  {
   "cell_type": "code",
   "execution_count": 288,
   "id": "8910faac-9d49-4982-844d-7f080cda0a40",
   "metadata": {},
   "outputs": [
    {
     "name": "stdout",
     "output_type": "stream",
     "text": [
      "追加したい役職があればその役職名を入力してください.なければDoneと入力してください\n",
      "使用可能な役職:\n",
      "- 占い師\n",
      "- 騎士\n",
      "- 狂人\n"
     ]
    },
    {
     "name": "stdin",
     "output_type": "stream",
     "text": [
      " Done\n"
     ]
    },
    {
     "name": "stderr",
     "output_type": "stream",
     "text": [
      "使用する配役:['村人', '人狼']\n"
     ]
    },
    {
     "name": "stdout",
     "output_type": "stream",
     "text": [
      "役職：　村人　の人数を入力してください\n",
      "例:2人->[入力]:2\n"
     ]
    },
    {
     "name": "stdin",
     "output_type": "stream",
     "text": [
      " 4\n"
     ]
    },
    {
     "name": "stdout",
     "output_type": "stream",
     "text": [
      "役職：　人狼　の人数を入力してください\n",
      "例:2人->[入力]:2\n"
     ]
    },
    {
     "name": "stdin",
     "output_type": "stream",
     "text": [
      " 2\n"
     ]
    },
    {
     "name": "stderr",
     "output_type": "stream",
     "text": [
      "役職別の人数:{'村人': 4, '人狼': 2}\n",
      "role:村人, num:4\n",
      "role:人狼, num:2\n",
      "村人陣営の数:4\n",
      "人狼陣営の数:2\n"
     ]
    },
    {
     "name": "stdout",
     "output_type": "stream",
     "text": [
      "player0の名前を入力してください\n"
     ]
    },
    {
     "name": "stdin",
     "output_type": "stream",
     "text": [
      " a\n"
     ]
    },
    {
     "name": "stdout",
     "output_type": "stream",
     "text": [
      "player1の名前を入力してください\n"
     ]
    },
    {
     "name": "stdin",
     "output_type": "stream",
     "text": [
      " c\n"
     ]
    },
    {
     "name": "stdout",
     "output_type": "stream",
     "text": [
      "player2の名前を入力してください\n"
     ]
    },
    {
     "name": "stdin",
     "output_type": "stream",
     "text": [
      " b\n"
     ]
    },
    {
     "name": "stdout",
     "output_type": "stream",
     "text": [
      "player3の名前を入力してください\n"
     ]
    },
    {
     "name": "stdin",
     "output_type": "stream",
     "text": [
      " d\n"
     ]
    },
    {
     "name": "stdout",
     "output_type": "stream",
     "text": [
      "player4の名前を入力してください\n"
     ]
    },
    {
     "name": "stdin",
     "output_type": "stream",
     "text": [
      " e\n"
     ]
    },
    {
     "name": "stdout",
     "output_type": "stream",
     "text": [
      "player5の名前を入力してください\n"
     ]
    },
    {
     "name": "stdin",
     "output_type": "stream",
     "text": [
      " f\n"
     ]
    }
   ],
   "source": [
    "role_allocation, players = game.initialize()"
   ]
  },
  {
   "cell_type": "code",
   "execution_count": 298,
   "id": "423511a9-ab2b-4c19-96ca-21a2f3c7c5d4",
   "metadata": {},
   "outputs": [],
   "source": [
    "moderator = Moderator(role_allocation,players,logger= logger)"
   ]
  },
  {
   "cell_type": "code",
   "execution_count": 302,
   "id": "8b01d8ae-ef29-41b3-994a-616e80b91b6e",
   "metadata": {},
   "outputs": [
    {
     "name": "stderr",
     "output_type": "stream",
     "text": [
      "shuffle前:[<__main__.Villager object at 0x10805fc70>, <__main__.Villager object at 0x10805f6d0>, <__main__.Villager object at 0x10805f070>, <__main__.Villager object at 0x10805f340>, <__main__.Werewolf object at 0x10805fd30>, <__main__.Werewolf object at 0x107947e80>]\n",
      "shuffle後:[<__main__.Villager object at 0x10805f340>, <__main__.Villager object at 0x10805fc70>, <__main__.Werewolf object at 0x10805fd30>, <__main__.Villager object at 0x10805f070>, <__main__.Villager object at 0x10805f6d0>, <__main__.Werewolf object at 0x107947e80>]\n"
     ]
    }
   ],
   "source": [
    "moderator.assign_role()"
   ]
  },
  {
   "cell_type": "code",
   "execution_count": 303,
   "id": "d879b882-5f6c-4e26-918e-6db90e842186",
   "metadata": {},
   "outputs": [
    {
     "name": "stdout",
     "output_type": "stream",
     "text": [
      "議論する時間を入力してください\n",
      "例：3分 -> 入力値: 3\n"
     ]
    },
    {
     "name": "stdin",
     "output_type": "stream",
     "text": [
      " 0\n"
     ]
    },
    {
     "name": "stderr",
     "output_type": "stream",
     "text": [
      "select_outcast関数使用前\n",
      "player:a,status:True\n",
      "player:c,status:True\n",
      "player:b,status:True\n",
      "player:d,status:True\n",
      "player:e,status:True\n",
      "player:f,status:True\n"
     ]
    },
    {
     "name": "stdout",
     "output_type": "stream",
     "text": [
      "議論を開始してください.\n",
      "時間になりました議論を終了してください\n",
      "あなたはaさんですか？正しければyesと入力して下さい\n"
     ]
    },
    {
     "ename": "KeyboardInterrupt",
     "evalue": "Interrupted by user",
     "output_type": "error",
     "traceback": [
      "\u001b[0;31m---------------------------------------------------------------------------\u001b[0m",
      "\u001b[0;31mKeyboardInterrupt\u001b[0m                         Traceback (most recent call last)",
      "Input \u001b[0;32mIn [303]\u001b[0m, in \u001b[0;36m<cell line: 1>\u001b[0;34m()\u001b[0m\n\u001b[0;32m----> 1\u001b[0m \u001b[43mmoderator\u001b[49m\u001b[38;5;241;43m.\u001b[39;49m\u001b[43mdayaction\u001b[49m\u001b[43m(\u001b[49m\u001b[43m)\u001b[49m\n",
      "Input \u001b[0;32mIn [297]\u001b[0m, in \u001b[0;36mModerator.dayaction\u001b[0;34m(self)\u001b[0m\n\u001b[1;32m    247\u001b[0m \u001b[38;5;28mself\u001b[39m\u001b[38;5;241m.\u001b[39m_log_player_status(\u001b[38;5;124m\"\u001b[39m\u001b[38;5;124mselect_outcast関数使用前\u001b[39m\u001b[38;5;124m\"\u001b[39m)\n\u001b[1;32m    249\u001b[0m \u001b[38;5;66;03m#投票\u001b[39;00m\n\u001b[0;32m--> 250\u001b[0m outcast_player \u001b[38;5;241m=\u001b[39m \u001b[38;5;28;43mself\u001b[39;49m\u001b[38;5;241;43m.\u001b[39;49m\u001b[43mselect_outcast\u001b[49m\u001b[43m(\u001b[49m\u001b[43m)\u001b[49m\n\u001b[1;32m    251\u001b[0m \u001b[38;5;66;03m#追放\u001b[39;00m\n\u001b[1;32m    252\u001b[0m \u001b[38;5;28mprint\u001b[39m(\u001b[38;5;124mf\u001b[39m\u001b[38;5;124m\"\u001b[39m\u001b[38;5;132;01m{\u001b[39;00moutcast_player\u001b[38;5;241m.\u001b[39mname\u001b[38;5;132;01m}\u001b[39;00m\u001b[38;5;124mが追放されます\u001b[39m\u001b[38;5;124m\"\u001b[39m)\n",
      "Input \u001b[0;32mIn [297]\u001b[0m, in \u001b[0;36mModerator.select_outcast\u001b[0;34m(self)\u001b[0m\n\u001b[1;32m    136\u001b[0m aliveplayer_names \u001b[38;5;241m=\u001b[39m [player\u001b[38;5;241m.\u001b[39mname \u001b[38;5;28;01mfor\u001b[39;00m player \u001b[38;5;129;01min\u001b[39;00m \u001b[38;5;28mself\u001b[39m\u001b[38;5;241m.\u001b[39maliveplayers]\n\u001b[1;32m    138\u001b[0m \u001b[38;5;28;01mfor\u001b[39;00m name \u001b[38;5;129;01min\u001b[39;00m aliveplayer_names:\n\u001b[0;32m--> 139\u001b[0m     \u001b[38;5;28;43mself\u001b[39;49m\u001b[38;5;241;43m.\u001b[39;49m\u001b[43m_is_yourself\u001b[49m\u001b[43m(\u001b[49m\u001b[43mname\u001b[49m\u001b[43m)\u001b[49m\n\u001b[1;32m    140\u001b[0m     result_list\u001b[38;5;241m.\u001b[39mappend(\u001b[38;5;28mself\u001b[39m\u001b[38;5;241m.\u001b[39m_select_outcast(aliveplayer_names))\n\u001b[1;32m    142\u001b[0m counter \u001b[38;5;241m=\u001b[39m Counter(result_list)\n",
      "Input \u001b[0;32mIn [297]\u001b[0m, in \u001b[0;36mModerator._is_yourself\u001b[0;34m(self, player_name)\u001b[0m\n\u001b[1;32m    102\u001b[0m \u001b[38;5;28mprint\u001b[39m(\u001b[38;5;124mf\u001b[39m\u001b[38;5;124m\"\u001b[39m\u001b[38;5;124mあなたは\u001b[39m\u001b[38;5;132;01m{\u001b[39;00mplayer_name\u001b[38;5;132;01m}\u001b[39;00m\u001b[38;5;124mさんですか？正しければyesと入力して下さい\u001b[39m\u001b[38;5;124m\"\u001b[39m)\n\u001b[1;32m    103\u001b[0m \u001b[38;5;28;01mwhile\u001b[39;00m notmatch:\n\u001b[0;32m--> 104\u001b[0m     ans \u001b[38;5;241m=\u001b[39m \u001b[38;5;28;43minput\u001b[39;49m\u001b[43m(\u001b[49m\u001b[43m)\u001b[49m\n\u001b[1;32m    105\u001b[0m     \u001b[38;5;28;01mif\u001b[39;00m ans \u001b[38;5;241m==\u001b[39m \u001b[38;5;124m\"\u001b[39m\u001b[38;5;124myes\u001b[39m\u001b[38;5;124m\"\u001b[39m:\n\u001b[1;32m    106\u001b[0m         \u001b[38;5;28;01mreturn\u001b[39;00m \u001b[38;5;28;01mTrue\u001b[39;00m\n",
      "File \u001b[0;32m~/practice/env/lib/python3.9/site-packages/ipykernel/kernelbase.py:1177\u001b[0m, in \u001b[0;36mKernel.raw_input\u001b[0;34m(self, prompt)\u001b[0m\n\u001b[1;32m   1173\u001b[0m \u001b[38;5;28;01mif\u001b[39;00m \u001b[38;5;129;01mnot\u001b[39;00m \u001b[38;5;28mself\u001b[39m\u001b[38;5;241m.\u001b[39m_allow_stdin:\n\u001b[1;32m   1174\u001b[0m     \u001b[38;5;28;01mraise\u001b[39;00m StdinNotImplementedError(\n\u001b[1;32m   1175\u001b[0m         \u001b[38;5;124m\"\u001b[39m\u001b[38;5;124mraw_input was called, but this frontend does not support input requests.\u001b[39m\u001b[38;5;124m\"\u001b[39m\n\u001b[1;32m   1176\u001b[0m     )\n\u001b[0;32m-> 1177\u001b[0m \u001b[38;5;28;01mreturn\u001b[39;00m \u001b[38;5;28;43mself\u001b[39;49m\u001b[38;5;241;43m.\u001b[39;49m\u001b[43m_input_request\u001b[49m\u001b[43m(\u001b[49m\n\u001b[1;32m   1178\u001b[0m \u001b[43m    \u001b[49m\u001b[38;5;28;43mstr\u001b[39;49m\u001b[43m(\u001b[49m\u001b[43mprompt\u001b[49m\u001b[43m)\u001b[49m\u001b[43m,\u001b[49m\n\u001b[1;32m   1179\u001b[0m \u001b[43m    \u001b[49m\u001b[38;5;28;43mself\u001b[39;49m\u001b[38;5;241;43m.\u001b[39;49m\u001b[43m_parent_ident\u001b[49m\u001b[43m[\u001b[49m\u001b[38;5;124;43m\"\u001b[39;49m\u001b[38;5;124;43mshell\u001b[39;49m\u001b[38;5;124;43m\"\u001b[39;49m\u001b[43m]\u001b[49m\u001b[43m,\u001b[49m\n\u001b[1;32m   1180\u001b[0m \u001b[43m    \u001b[49m\u001b[38;5;28;43mself\u001b[39;49m\u001b[38;5;241;43m.\u001b[39;49m\u001b[43mget_parent\u001b[49m\u001b[43m(\u001b[49m\u001b[38;5;124;43m\"\u001b[39;49m\u001b[38;5;124;43mshell\u001b[39;49m\u001b[38;5;124;43m\"\u001b[39;49m\u001b[43m)\u001b[49m\u001b[43m,\u001b[49m\n\u001b[1;32m   1181\u001b[0m \u001b[43m    \u001b[49m\u001b[43mpassword\u001b[49m\u001b[38;5;241;43m=\u001b[39;49m\u001b[38;5;28;43;01mFalse\u001b[39;49;00m\u001b[43m,\u001b[49m\n\u001b[1;32m   1182\u001b[0m \u001b[43m\u001b[49m\u001b[43m)\u001b[49m\n",
      "File \u001b[0;32m~/practice/env/lib/python3.9/site-packages/ipykernel/kernelbase.py:1219\u001b[0m, in \u001b[0;36mKernel._input_request\u001b[0;34m(self, prompt, ident, parent, password)\u001b[0m\n\u001b[1;32m   1216\u001b[0m             \u001b[38;5;28;01mbreak\u001b[39;00m\n\u001b[1;32m   1217\u001b[0m \u001b[38;5;28;01mexcept\u001b[39;00m \u001b[38;5;167;01mKeyboardInterrupt\u001b[39;00m:\n\u001b[1;32m   1218\u001b[0m     \u001b[38;5;66;03m# re-raise KeyboardInterrupt, to truncate traceback\u001b[39;00m\n\u001b[0;32m-> 1219\u001b[0m     \u001b[38;5;28;01mraise\u001b[39;00m \u001b[38;5;167;01mKeyboardInterrupt\u001b[39;00m(\u001b[38;5;124m\"\u001b[39m\u001b[38;5;124mInterrupted by user\u001b[39m\u001b[38;5;124m\"\u001b[39m) \u001b[38;5;28;01mfrom\u001b[39;00m \u001b[38;5;28mNone\u001b[39m\n\u001b[1;32m   1220\u001b[0m \u001b[38;5;28;01mexcept\u001b[39;00m \u001b[38;5;167;01mException\u001b[39;00m:\n\u001b[1;32m   1221\u001b[0m     \u001b[38;5;28mself\u001b[39m\u001b[38;5;241m.\u001b[39mlog\u001b[38;5;241m.\u001b[39mwarning(\u001b[38;5;124m\"\u001b[39m\u001b[38;5;124mInvalid Message:\u001b[39m\u001b[38;5;124m\"\u001b[39m, exc_info\u001b[38;5;241m=\u001b[39m\u001b[38;5;28;01mTrue\u001b[39;00m)\n",
      "\u001b[0;31mKeyboardInterrupt\u001b[0m: Interrupted by user"
     ]
    }
   ],
   "source": [
    "moderator.dayaction()"
   ]
  },
  {
   "cell_type": "code",
   "execution_count": 293,
   "id": "5360c3a5-9d5b-48a3-9387-21fa5aef7676",
   "metadata": {},
   "outputs": [
    {
     "data": {
      "text/plain": [
       "[<__main__.Player at 0x1087e8b80>,\n",
       " <__main__.Player at 0x1087e8610>,\n",
       " <__main__.Player at 0x1087e8100>,\n",
       " <__main__.Player at 0x1087e8af0>,\n",
       " <__main__.Player at 0x1087e8fd0>]"
      ]
     },
     "execution_count": 293,
     "metadata": {},
     "output_type": "execute_result"
    }
   ],
   "source": [
    "moderator.aliveplayers"
   ]
  },
  {
   "cell_type": "code",
   "execution_count": 296,
   "id": "81691fcb-fc20-45d5-af32-473509cb9efc",
   "metadata": {},
   "outputs": [],
   "source": [
    "moderator.gamestatus"
   ]
  },
  {
   "cell_type": "code",
   "execution_count": 295,
   "id": "a49d4415-39eb-4fce-88f5-04c9d401fb07",
   "metadata": {},
   "outputs": [
    {
     "name": "stdout",
     "output_type": "stream",
     "text": [
      "あなたはcさんですか？正しければyesと入力して下さい\n"
     ]
    },
    {
     "name": "stdin",
     "output_type": "stream",
     "text": [
      " yes\n"
     ]
    },
    {
     "name": "stdout",
     "output_type": "stream",
     "text": [
      "殺害する人の名前を選択していください\n"
     ]
    },
    {
     "name": "stdin",
     "output_type": "stream",
     "text": [
      " d\n"
     ]
    },
    {
     "name": "stdout",
     "output_type": "stream",
     "text": [
      "あなたはbさんですか？正しければyesと入力して下さい\n"
     ]
    },
    {
     "name": "stdin",
     "output_type": "stream",
     "text": [
      " yes\n"
     ]
    },
    {
     "name": "stdout",
     "output_type": "stream",
     "text": [
      "あなたはdさんですか？正しければyesと入力して下さい\n"
     ]
    },
    {
     "name": "stdin",
     "output_type": "stream",
     "text": [
      " yes\n"
     ]
    },
    {
     "name": "stdout",
     "output_type": "stream",
     "text": [
      "殺害する人の名前を選択していください\n"
     ]
    },
    {
     "name": "stdin",
     "output_type": "stream",
     "text": [
      " e\n"
     ]
    },
    {
     "name": "stdout",
     "output_type": "stream",
     "text": [
      "あなたはeさんですか？正しければyesと入力して下さい\n"
     ]
    },
    {
     "name": "stdin",
     "output_type": "stream",
     "text": [
      " yes\n"
     ]
    },
    {
     "name": "stdout",
     "output_type": "stream",
     "text": [
      "あなたはfさんですか？正しければyesと入力して下さい\n"
     ]
    },
    {
     "name": "stdin",
     "output_type": "stream",
     "text": [
      " yes\n"
     ]
    }
   ],
   "source": [
    "moderator.nightaction()"
   ]
  },
  {
   "cell_type": "code",
   "execution_count": null,
   "id": "6263c1a7-6a62-42da-afab-4f5bd3926d48",
   "metadata": {},
   "outputs": [],
   "source": []
  },
  {
   "cell_type": "code",
   "execution_count": 309,
   "id": "6ff8c3f9-c51f-496e-8b46-5cb302909453",
   "metadata": {},
   "outputs": [
    {
     "name": "stdout",
     "output_type": "stream",
     "text": [
      "追加したい役職があればその役職名を入力してください.なければDoneと入力してください\n",
      "使用可能な役職:\n",
      "- 占い師\n",
      "- 騎士\n",
      "- 狂人\n"
     ]
    },
    {
     "name": "stdin",
     "output_type": "stream",
     "text": [
      " Done\n"
     ]
    },
    {
     "name": "stderr",
     "output_type": "stream",
     "text": [
      "使用する配役:['村人', '人狼']\n"
     ]
    },
    {
     "name": "stdout",
     "output_type": "stream",
     "text": [
      "役職：　村人　の人数を入力してください\n",
      "例:2人->[入力]:2\n"
     ]
    },
    {
     "name": "stdin",
     "output_type": "stream",
     "text": [
      " 4\n"
     ]
    },
    {
     "name": "stdout",
     "output_type": "stream",
     "text": [
      "役職：　人狼　の人数を入力してください\n",
      "例:2人->[入力]:2\n"
     ]
    },
    {
     "name": "stdin",
     "output_type": "stream",
     "text": [
      " 2\n"
     ]
    },
    {
     "name": "stderr",
     "output_type": "stream",
     "text": [
      "役職別の人数:{'村人': 4, '人狼': 2}\n",
      "role:村人, num:4\n",
      "role:人狼, num:2\n",
      "村人陣営の数:4\n",
      "人狼陣営の数:2\n"
     ]
    },
    {
     "name": "stdout",
     "output_type": "stream",
     "text": [
      "player0の名前を入力してください\n"
     ]
    },
    {
     "name": "stdin",
     "output_type": "stream",
     "text": [
      " a\n"
     ]
    },
    {
     "name": "stdout",
     "output_type": "stream",
     "text": [
      "player1の名前を入力してください\n"
     ]
    },
    {
     "name": "stdin",
     "output_type": "stream",
     "text": [
      " b\n"
     ]
    },
    {
     "name": "stdout",
     "output_type": "stream",
     "text": [
      "player2の名前を入力してください\n"
     ]
    },
    {
     "name": "stdin",
     "output_type": "stream",
     "text": [
      " c\n"
     ]
    },
    {
     "name": "stdout",
     "output_type": "stream",
     "text": [
      "player3の名前を入力してください\n"
     ]
    },
    {
     "name": "stdin",
     "output_type": "stream",
     "text": [
      " d\n"
     ]
    },
    {
     "name": "stdout",
     "output_type": "stream",
     "text": [
      "player4の名前を入力してください\n"
     ]
    },
    {
     "name": "stdin",
     "output_type": "stream",
     "text": [
      " e\n"
     ]
    },
    {
     "name": "stdout",
     "output_type": "stream",
     "text": [
      "player5の名前を入力してください\n"
     ]
    },
    {
     "name": "stdin",
     "output_type": "stream",
     "text": [
      " f\n"
     ]
    },
    {
     "name": "stderr",
     "output_type": "stream",
     "text": [
      "shuffle前:[<__main__.Villager object at 0x10847f250>, <__main__.Villager object at 0x10847fc40>, <__main__.Villager object at 0x107aa7d30>, <__main__.Villager object at 0x107aa7a30>, <__main__.Werewolf object at 0x10847f460>, <__main__.Werewolf object at 0x107aa7dc0>]\n",
      "shuffle後:[<__main__.Villager object at 0x10847fc40>, <__main__.Werewolf object at 0x107aa7dc0>, <__main__.Villager object at 0x10847f250>, <__main__.Werewolf object at 0x10847f460>, <__main__.Villager object at 0x107aa7d30>, <__main__.Villager object at 0x107aa7a30>]\n"
     ]
    },
    {
     "name": "stdout",
     "output_type": "stream",
     "text": [
      "あなたはaさんですか？正しければyesと入力して下さい\n"
     ]
    },
    {
     "name": "stdin",
     "output_type": "stream",
     "text": [
      " yes\n"
     ]
    },
    {
     "name": "stdout",
     "output_type": "stream",
     "text": [
      "あなたの役職は村人です\n",
      "あなたはbさんですか？正しければyesと入力して下さい\n"
     ]
    },
    {
     "name": "stdin",
     "output_type": "stream",
     "text": [
      " yes\n"
     ]
    },
    {
     "name": "stdout",
     "output_type": "stream",
     "text": [
      "あなたの役職は人狼です\n",
      "あなたはcさんですか？正しければyesと入力して下さい\n"
     ]
    },
    {
     "name": "stdin",
     "output_type": "stream",
     "text": [
      " yes\n"
     ]
    },
    {
     "name": "stdout",
     "output_type": "stream",
     "text": [
      "あなたの役職は村人です\n",
      "あなたはdさんですか？正しければyesと入力して下さい\n"
     ]
    },
    {
     "name": "stdin",
     "output_type": "stream",
     "text": [
      " yes\n"
     ]
    },
    {
     "name": "stdout",
     "output_type": "stream",
     "text": [
      "あなたの役職は人狼です\n",
      "あなたはeさんですか？正しければyesと入力して下さい\n"
     ]
    },
    {
     "name": "stdin",
     "output_type": "stream",
     "text": [
      " yes\n"
     ]
    },
    {
     "name": "stdout",
     "output_type": "stream",
     "text": [
      "あなたの役職は村人です\n",
      "あなたはfさんですか？正しければyesと入力して下さい\n"
     ]
    },
    {
     "name": "stdin",
     "output_type": "stream",
     "text": [
      " yes\n"
     ]
    },
    {
     "name": "stdout",
     "output_type": "stream",
     "text": [
      "あなたの役職は村人です\n",
      "1の朝です.\n",
      "昨晩の被害者はいませんでした．\n",
      "議論する時間を入力してください\n",
      "例：3分 -> 入力値: 3\n"
     ]
    },
    {
     "name": "stdin",
     "output_type": "stream",
     "text": [
      " 0\n"
     ]
    },
    {
     "name": "stderr",
     "output_type": "stream",
     "text": [
      "select_outcast関数使用前\n",
      "player:a,status:True\n",
      "player:b,status:True\n",
      "player:c,status:True\n",
      "player:d,status:True\n",
      "player:e,status:True\n",
      "player:f,status:True\n"
     ]
    },
    {
     "name": "stdout",
     "output_type": "stream",
     "text": [
      "議論を開始してください.\n",
      "時間になりました議論を終了してください\n",
      "あなたはaさんですか？正しければyesと入力して下さい\n"
     ]
    },
    {
     "name": "stdin",
     "output_type": "stream",
     "text": [
      " yes\n"
     ]
    },
    {
     "name": "stdout",
     "output_type": "stream",
     "text": [
      "下記playerの中から,追放する人物名を入力して下さい\n",
      "['a', 'b', 'c', 'd', 'e', 'f']\n"
     ]
    },
    {
     "name": "stdin",
     "output_type": "stream",
     "text": [
      " b\n"
     ]
    },
    {
     "name": "stdout",
     "output_type": "stream",
     "text": [
      "あなたはbさんですか？正しければyesと入力して下さい\n"
     ]
    },
    {
     "name": "stdin",
     "output_type": "stream",
     "text": [
      " yes\n"
     ]
    },
    {
     "name": "stdout",
     "output_type": "stream",
     "text": [
      "下記playerの中から,追放する人物名を入力して下さい\n",
      "['a', 'b', 'c', 'd', 'e', 'f']\n"
     ]
    },
    {
     "name": "stdin",
     "output_type": "stream",
     "text": [
      " b\n"
     ]
    },
    {
     "name": "stdout",
     "output_type": "stream",
     "text": [
      "あなたはcさんですか？正しければyesと入力して下さい\n"
     ]
    },
    {
     "name": "stdin",
     "output_type": "stream",
     "text": [
      " yes\n"
     ]
    },
    {
     "name": "stdout",
     "output_type": "stream",
     "text": [
      "下記playerの中から,追放する人物名を入力して下さい\n",
      "['a', 'b', 'c', 'd', 'e', 'f']\n"
     ]
    },
    {
     "name": "stdin",
     "output_type": "stream",
     "text": [
      " b\n"
     ]
    },
    {
     "name": "stdout",
     "output_type": "stream",
     "text": [
      "あなたはdさんですか？正しければyesと入力して下さい\n"
     ]
    },
    {
     "name": "stdin",
     "output_type": "stream",
     "text": [
      " yes\n"
     ]
    },
    {
     "name": "stdout",
     "output_type": "stream",
     "text": [
      "下記playerの中から,追放する人物名を入力して下さい\n",
      "['a', 'b', 'c', 'd', 'e', 'f']\n"
     ]
    },
    {
     "name": "stdin",
     "output_type": "stream",
     "text": [
      " by\n"
     ]
    },
    {
     "name": "stdout",
     "output_type": "stream",
     "text": [
      "向こうな入力で生存しているplayer名を入力して下さい\n"
     ]
    },
    {
     "name": "stdin",
     "output_type": "stream",
     "text": [
      " b\n"
     ]
    },
    {
     "name": "stdout",
     "output_type": "stream",
     "text": [
      "あなたはeさんですか？正しければyesと入力して下さい\n"
     ]
    },
    {
     "name": "stdin",
     "output_type": "stream",
     "text": [
      " yes\n"
     ]
    },
    {
     "name": "stdout",
     "output_type": "stream",
     "text": [
      "下記playerの中から,追放する人物名を入力して下さい\n",
      "['a', 'b', 'c', 'd', 'e', 'f']\n"
     ]
    },
    {
     "name": "stdin",
     "output_type": "stream",
     "text": [
      " b\n"
     ]
    },
    {
     "name": "stdout",
     "output_type": "stream",
     "text": [
      "あなたはfさんですか？正しければyesと入力して下さい\n"
     ]
    },
    {
     "name": "stdin",
     "output_type": "stream",
     "text": [
      " yes\n"
     ]
    },
    {
     "name": "stdout",
     "output_type": "stream",
     "text": [
      "下記playerの中から,追放する人物名を入力して下さい\n",
      "['a', 'b', 'c', 'd', 'e', 'f']\n"
     ]
    },
    {
     "name": "stdin",
     "output_type": "stream",
     "text": [
      " b\n"
     ]
    },
    {
     "name": "stderr",
     "output_type": "stream",
     "text": [
      "dead関数使用前\n",
      "player:a,status:True\n",
      "player:b,status:True\n",
      "player:c,status:True\n",
      "player:d,status:True\n",
      "player:e,status:True\n",
      "player:f,status:True\n",
      "dead関数使用後\n",
      "player:a,status:True\n",
      "player:b,status:False\n",
      "player:c,status:True\n",
      "player:d,status:True\n",
      "player:e,status:True\n",
      "player:f,status:True\n",
      "update_alivalplayers使用後\n",
      "player:a,status:True\n",
      "player:b,status:False\n",
      "player:c,status:True\n",
      "player:d,status:True\n",
      "player:e,status:True\n",
      "player:f,status:True\n"
     ]
    },
    {
     "name": "stdout",
     "output_type": "stream",
     "text": [
      "bが追放されます\n",
      "あなたはaさんですか？正しければyesと入力して下さい\n"
     ]
    },
    {
     "name": "stdin",
     "output_type": "stream",
     "text": [
      " yes\n"
     ]
    },
    {
     "name": "stdout",
     "output_type": "stream",
     "text": [
      "あなたはcさんですか？正しければyesと入力して下さい\n"
     ]
    },
    {
     "name": "stdin",
     "output_type": "stream",
     "text": [
      " yes\n"
     ]
    },
    {
     "name": "stdout",
     "output_type": "stream",
     "text": [
      "あなたはdさんですか？正しければyesと入力して下さい\n"
     ]
    },
    {
     "name": "stdin",
     "output_type": "stream",
     "text": [
      " yes\n"
     ]
    },
    {
     "name": "stdout",
     "output_type": "stream",
     "text": [
      "殺害する人の名前を選択していください\n"
     ]
    },
    {
     "name": "stdin",
     "output_type": "stream",
     "text": [
      " d\n"
     ]
    },
    {
     "name": "stdout",
     "output_type": "stream",
     "text": [
      "あなたはeさんですか？正しければyesと入力して下さい\n"
     ]
    },
    {
     "name": "stdin",
     "output_type": "stream",
     "text": [
      " yes\n"
     ]
    },
    {
     "name": "stdout",
     "output_type": "stream",
     "text": [
      "あなたはfさんですか？正しければyesと入力して下さい\n"
     ]
    },
    {
     "name": "stdin",
     "output_type": "stream",
     "text": [
      " yes\n"
     ]
    },
    {
     "name": "stderr",
     "output_type": "stream",
     "text": [
      "dead使用後\n",
      "player:a,status:True\n",
      "player:b,status:False\n",
      "player:c,status:True\n",
      "player:d,status:False\n",
      "player:e,status:True\n",
      "player:f,status:True\n",
      "update_alivalplayers使用後\n",
      "player:a,status:True\n",
      "player:b,status:False\n",
      "player:c,status:True\n",
      "player:d,status:False\n",
      "player:e,status:True\n",
      "player:f,status:True\n"
     ]
    },
    {
     "name": "stdout",
     "output_type": "stream",
     "text": [
      "村人陣営の勝利\n"
     ]
    }
   ],
   "source": [
    "main()"
   ]
  }
 ],
 "metadata": {
  "kernelspec": {
   "display_name": "Python 3 (ipykernel)",
   "language": "python",
   "name": "python3"
  },
  "language_info": {
   "codemirror_mode": {
    "name": "ipython",
    "version": 3
   },
   "file_extension": ".py",
   "mimetype": "text/x-python",
   "name": "python",
   "nbconvert_exporter": "python",
   "pygments_lexer": "ipython3",
   "version": "3.9.6"
  },
  "toc-autonumbering": true,
  "toc-showcode": false,
  "toc-showtags": true
 },
 "nbformat": 4,
 "nbformat_minor": 5
}
